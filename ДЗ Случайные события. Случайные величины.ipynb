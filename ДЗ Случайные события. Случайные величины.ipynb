{
 "cells": [
  {
   "cell_type": "code",
   "execution_count": 2,
   "metadata": {},
   "outputs": [],
   "source": [
    "import random\n",
    "import numpy as np"
   ]
  },
  {
   "cell_type": "code",
   "execution_count": 13,
   "metadata": {},
   "outputs": [
    {
     "name": "stdout",
     "output_type": "stream",
     "text": [
      "Количество успехов 204017 из 1000000\n",
      "Вероятность выигрыша: 20 %\n",
      "Игрок выиграл 789652 руб., потратил 1000000 руб., прибыль -210348 руб.\n",
      "В среднем за одну игру игрок приобретает -0.210348 руб.\n"
     ]
    }
   ],
   "source": [
    "games = 1000000\n",
    "successes = 0\n",
    "rate = 0\n",
    "money = 0\n",
    "for g in range(games):\n",
    "    rate += 1\n",
    "    v = np.random.randint(1, 1000)\n",
    "    if v == 777:\n",
    "        successes += 1\n",
    "        money += 200\n",
    "    elif v == 999:\n",
    "        successes += 1\n",
    "        money += 100\n",
    "    elif v == 555:\n",
    "        successes += 1\n",
    "        money += 50\n",
    "    elif v == 333:\n",
    "        successes += 1\n",
    "        money += 15\n",
    "    elif v == 111:\n",
    "        successes += 1\n",
    "        money += 10\n",
    "    elif v%100 == 77:\n",
    "        successes += 1\n",
    "        money += 5\n",
    "    elif v%10 == 7:\n",
    "        successes += 1\n",
    "        money += 3\n",
    "    elif v%100 == 0:\n",
    "        successes += 1\n",
    "        money += 2\n",
    "    elif v%10 == 0:\n",
    "        successes += 1\n",
    "        money += 1\n",
    "    \n",
    "print(f'Количество успехов {successes} из {games}')\n",
    "print(f'Вероятность выигрыша: {round((successes / games)*100)} %')\n",
    "print(f'Игрок выиграл {money} руб., потратил {rate} руб., прибыль {money -  rate} руб.')\n",
    "print(f'В среднем за одну игру игрок приобретает {(money -  rate) / games} руб.')\n"
   ]
  }
 ],
 "metadata": {
  "kernelspec": {
   "display_name": "Python 3",
   "language": "python",
   "name": "python3"
  },
  "language_info": {
   "codemirror_mode": {
    "name": "ipython",
    "version": 3
   },
   "file_extension": ".py",
   "mimetype": "text/x-python",
   "name": "python",
   "nbconvert_exporter": "python",
   "pygments_lexer": "ipython3",
   "version": "3.8.3"
  }
 },
 "nbformat": 4,
 "nbformat_minor": 4
}
