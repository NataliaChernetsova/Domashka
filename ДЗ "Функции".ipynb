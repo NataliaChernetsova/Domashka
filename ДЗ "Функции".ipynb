{
 "cells": [
  {
   "cell_type": "code",
   "execution_count": 14,
   "metadata": {},
   "outputs": [],
   "source": [
    "\n",
    "documents = [\n",
    "{'type': 'passport', 'number': '2207 876234', 'name': 'Василий Гупкин'},\n",
    "{'type': 'invoice', 'number': '11-2', 'name': 'Геннадий Покемонов'},\n",
    "{'type': 'insurance', 'number': '10006', 'name': 'Аристарх Павлов'}\n",
    "]"
   ]
  },
  {
   "cell_type": "code",
   "execution_count": 15,
   "metadata": {},
   "outputs": [],
   "source": [
    "directories = {\n",
    "'1': ['2207 876234', '11-2'],\n",
    "'2': ['10006'],\n",
    "'3': []\n",
    "}\n"
   ]
  },
  {
   "cell_type": "code",
   "execution_count": 32,
   "metadata": {},
   "outputs": [
    {
     "name": "stdout",
     "output_type": "stream",
     "text": [
      "Введите команду: p\n",
      "Введите номер документа: 10006\n",
      "Владелец документа: Аристарх Павлов\n",
      "Введите команду: q\n",
      "Программа завершена\n"
     ]
    }
   ],
   "source": [
    "def main(documents, directories):\n",
    "    while True:\n",
    "        user = input(\"Введите команду: \")\n",
    "        if user == 'p': \n",
    "            doc()\n",
    "        elif user == 's':\n",
    "            get_shelf_number()\n",
    "        elif user == 'l':\n",
    "            all_info()\n",
    "        elif user == 'as':\n",
    "            add_shelf()\n",
    "        elif user == 'ds':\n",
    "            del_shelf()\n",
    "        if user == 'q':\n",
    "            print('Программа завершена')\n",
    "            break\n",
    "main(documents, directories)      "
   ]
  },
  {
   "cell_type": "code",
   "execution_count": 21,
   "metadata": {},
   "outputs": [
    {
     "name": "stdout",
     "output_type": "stream",
     "text": [
      "Введите номер документа: 10006\n",
      "Владелец документа: Аристарх Павлов\n"
     ]
    }
   ],
   "source": [
    "def doc():\n",
    "    \"\"\"\n",
    "    Пользователь по команде “p” может узнать владельца \n",
    "    документа по его номеру\n",
    "    \"\"\"\n",
    "    user_num = input(\"Введите номер документа: \")\n",
    "    for v in documents:\n",
    "        if user_num == v['number']:\n",
    "            print(f'Владелец документа:', v['name'])\n",
    "            return\n",
    "    print('Документ в базе не найден')\n",
    "        \n",
    "           \n",
    "    \n",
    "doc()      "
   ]
  },
  {
   "cell_type": "code",
   "execution_count": 8,
   "metadata": {},
   "outputs": [
    {
     "name": "stdout",
     "output_type": "stream",
     "text": [
      "Введите номер документа:10006\n",
      "Документ хранится на полке: 2\n"
     ]
    }
   ],
   "source": [
    "def get_shelf_number():\n",
    "    \"\"\"\n",
    "    Пользователь по команде “s” может по номеру \n",
    "    документа узнать на какой полке он хранится\n",
    "    \"\"\"\n",
    "    doc_num = input('Введите номер документа:')\n",
    "    for shelf, number in directories.items():\n",
    "        if doc_num in number:\n",
    "            return print(f\"Документ хранится на полке: {shelf}\")\n",
    "        else:\n",
    "            pass\n",
    "    return print('Документ не найден в базе')\n",
    "   \n",
    " \n",
    "                  \n",
    "get_shelf_number()"
   ]
  },
  {
   "cell_type": "code",
   "execution_count": 10,
   "metadata": {},
   "outputs": [
    {
     "name": "stdout",
     "output_type": "stream",
     "text": [
      "№: 2207 876234, тип: passport, владелец: Василий Гупкин, номер полки: 1\n",
      "№: 11-2, тип: invoice, владелец: Геннадий Покемонов, номер полки: 1\n",
      "№: 10006, тип: insurance, владелец: Аристарх Павлов, номер полки: 2\n"
     ]
    }
   ],
   "source": [
    "def all_info():\n",
    "    \"\"\"\n",
    "    Пользователь по команде “l” может \n",
    "    увидеть полную информацию по всем документам\n",
    "    \"\"\"\n",
    "    \n",
    "    for el in documents:\n",
    "        doc_num = el['number']\n",
    "        for shelf, doc in directories.items():\n",
    "            if doc_num in doc:\n",
    "                shelf_num = shelf\n",
    "                print(f'№: {el[\"number\"]}, тип: {el[\"type\"]}, владелец: {el[\"name\"]}, номер полки: {shelf_num}')\n",
    "    \n",
    "all_info()"
   ]
  },
  {
   "cell_type": "code",
   "execution_count": 11,
   "metadata": {},
   "outputs": [
    {
     "name": "stdout",
     "output_type": "stream",
     "text": [
      "Введите номер полки 10\n",
      "Полка добавлена. Текущий перечень полок: 1, 2, 3, 10\n"
     ]
    }
   ],
   "source": [
    "def add_shelf():\n",
    "    \"\"\"\n",
    "    Пользователь по команде “as” может добавить новую полку\n",
    "    \"\"\"\n",
    "    new_shelf = input('Введите номер полки ')\n",
    "    if new_shelf in directories:\n",
    "        print(f'Такая полка уже существует. Текущий перечень полок: {\", \".join(directories.keys())}')\n",
    "        return\n",
    "    else:\n",
    "        directories[new_shelf] = []\n",
    "        print(f'Полка добавлена. Текущий перечень полок: {\", \".join(directories.keys())}')\n",
    "        \n",
    "        \n",
    "    \n",
    "add_shelf()"
   ]
  },
  {
   "cell_type": "code",
   "execution_count": 12,
   "metadata": {},
   "outputs": [
    {
     "name": "stdout",
     "output_type": "stream",
     "text": [
      "Введите номер полки, которую хотите удалить 3\n",
      "Полка удалена. Текущий перечень полок: 1, 2, 10\n"
     ]
    }
   ],
   "source": [
    "def del_shelf():\n",
    "    \"\"\"\n",
    "    Пользователь по команде “ds” может удалить \n",
    "    существующую полку из данных (только если она пустая)\n",
    "    \"\"\"\n",
    "    dele = input('Введите номер полки, которую хотите удалить ')\n",
    "    if dele not in directories:\n",
    "        print(f'Такой полки не существует. Текущий перечень полок: {\", \".join(directories.keys())}')\n",
    "        return\n",
    "    elif (dele in directories and directories[dele] == []):\n",
    "        del directories[dele]\n",
    "        print(f'Полка удалена. Текущий перечень полок: {\", \".join(directories.keys())}')\n",
    "        return\n",
    "    else: \n",
    "        print(f'На полке есть документы, удалите их перед удалением полки. Текущий перечень полок: {\", \".join(directories.keys())}')\n",
    "    \n",
    "        \n",
    "    \n",
    "    \n",
    "del_shelf()   "
   ]
  },
  {
   "cell_type": "code",
   "execution_count": null,
   "metadata": {},
   "outputs": [],
   "source": []
  },
  {
   "cell_type": "code",
   "execution_count": null,
   "metadata": {},
   "outputs": [],
   "source": []
  }
 ],
 "metadata": {
  "kernelspec": {
   "display_name": "Python 3",
   "language": "python",
   "name": "python3"
  },
  "language_info": {
   "codemirror_mode": {
    "name": "ipython",
    "version": 3
   },
   "file_extension": ".py",
   "mimetype": "text/x-python",
   "name": "python",
   "nbconvert_exporter": "python",
   "pygments_lexer": "ipython3",
   "version": "3.8.3"
  }
 },
 "nbformat": 4,
 "nbformat_minor": 4
}
