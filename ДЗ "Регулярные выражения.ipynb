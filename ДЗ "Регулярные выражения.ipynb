{
 "cells": [
  {
   "cell_type": "markdown",
   "metadata": {},
   "source": [
    "Задание 1"
   ]
  },
  {
   "cell_type": "code",
   "execution_count": 31,
   "metadata": {},
   "outputs": [],
   "source": [
    "import re"
   ]
  },
  {
   "cell_type": "code",
   "execution_count": 115,
   "metadata": {},
   "outputs": [
    {
     "name": "stdout",
     "output_type": "stream",
     "text": [
      "Введите ID В319РС13\n",
      "Номер В319РС валиден. Регион: 13\n"
     ]
    }
   ],
   "source": [
    "def valid_id():\n",
    "    a = input('Введите ID ')\n",
    "    try:\n",
    "        if b == r'([АВЕКМНОРСТУХ]{1}\\d{3}[АВЕКМНОРСТУХ]{2})(\\d{2})':\n",
    "            a_res = re.findall(b, a)\n",
    "            match_a = re.search(b, a)\n",
    "            print(f'Номер {match_a.group(1)} валиден. Регион: {match_a.group(2)}') \n",
    "    except:\n",
    "        print('Номер не валиден')\n",
    "        \n",
    "        \n",
    "    \n",
    "valid_id()      "
   ]
  },
  {
   "cell_type": "markdown",
   "metadata": {},
   "source": [
    "Задание 2"
   ]
  },
  {
   "cell_type": "code",
   "execution_count": 138,
   "metadata": {},
   "outputs": [],
   "source": [
    "some_string = 'Напишите функцию функцию, которая будет будет будет будет удалять все все все все последовательные повторы слов из из из из заданной строки строки при помощи регулярных выражений.'"
   ]
  },
  {
   "cell_type": "code",
   "execution_count": 190,
   "metadata": {},
   "outputs": [
    {
     "data": {
      "text/plain": [
       "'Напишите функцию  которая будет удалять все последовательные повторы слов из заданной строки при помощи регулярных выражений'"
      ]
     },
     "execution_count": 190,
     "metadata": {},
     "output_type": "execute_result"
    }
   ],
   "source": [
    "def repeat_word(some_string):\n",
    "    new_text = re.sub(r'\\W', ' ', some_string).strip()\n",
    "    new_text = re.sub(r'\\b([^\\W]+)(\\s+\\1)+\\b', r'\\1',  new_text, flags=re.I)\n",
    "    return new_text\n",
    "\n",
    "repeat_word(some_string)"
   ]
  },
  {
   "cell_type": "markdown",
   "metadata": {},
   "source": [
    "Задание 3"
   ]
  },
  {
   "cell_type": "code",
   "execution_count": 135,
   "metadata": {},
   "outputs": [
    {
     "name": "stdout",
     "output_type": "stream",
     "text": [
      "Введите слова: Kentucky Fried Chicken\n"
     ]
    },
    {
     "data": {
      "text/plain": [
       "'KFC'"
      ]
     },
     "execution_count": 135,
     "metadata": {},
     "output_type": "execute_result"
    }
   ],
   "source": [
    "def acronym():\n",
    "    a = input('Введите слова: ')\n",
    "    b = re.sub(r'([A-Za-zА-ЯЁа-яё]{1})(\\w+)\\s?', r'\\1', a)\n",
    "    return b\n",
    "acronym()"
   ]
  },
  {
   "cell_type": "markdown",
   "metadata": {},
   "source": [
    "Задание 4"
   ]
  },
  {
   "cell_type": "code",
   "execution_count": 78,
   "metadata": {},
   "outputs": [],
   "source": [
    "emails = ['test@gmail.com', 'xyz@test.in', 'test@ya.ru', 'xyz@mail.ru', 'xyz@ya.ru', 'xyz@gmail.com']"
   ]
  },
  {
   "cell_type": "code",
   "execution_count": 133,
   "metadata": {},
   "outputs": [
    {
     "name": "stdout",
     "output_type": "stream",
     "text": [
      "gmail.com: 2\n",
      "test.in: 1\n",
      "mail.ru: 1\n",
      "ya.ru: 2\n"
     ]
    }
   ],
   "source": [
    "def count_domen():\n",
    "    gmail_counter = 0\n",
    "    in_counter = 0\n",
    "    mail_ru_counter = 0\n",
    "    ya_ru_counter = 0\n",
    "\n",
    "    for email in emails:\n",
    "        if email.find(\"@gmail.com\") >= 0:\n",
    "            gmail_counter += 1\n",
    "        elif email.find(\"@test.in\") >= 0:\n",
    "            in_counter += 1\n",
    "        elif email.find(\"@mail.ru\") >= 0:\n",
    "            mail_ru_counter += 1\n",
    "        elif email.find(\"@ya.ru\") >= 0:\n",
    "            ya_ru_counter += 1 \n",
    "    print(*f'gmail.com: {gmail_counter}, test.in: {in_counter}, mail.ru: {mail_ru_counter}, ya.ru: {ya_ru_counter}'.split(', '), sep = '\\n')\n",
    "count_domen()    "
   ]
  }
 ],
 "metadata": {
  "kernelspec": {
   "display_name": "Python 3",
   "language": "python",
   "name": "python3"
  },
  "language_info": {
   "codemirror_mode": {
    "name": "ipython",
    "version": 3
   },
   "file_extension": ".py",
   "mimetype": "text/x-python",
   "name": "python",
   "nbconvert_exporter": "python",
   "pygments_lexer": "ipython3",
   "version": "3.8.3"
  }
 },
 "nbformat": 4,
 "nbformat_minor": 4
}
