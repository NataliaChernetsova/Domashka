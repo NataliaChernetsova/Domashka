{
 "cells": [
  {
   "cell_type": "markdown",
   "metadata": {},
   "source": [
    "# Задача 1"
   ]
  },
  {
   "cell_type": "code",
   "execution_count": 80,
   "metadata": {},
   "outputs": [
    {
     "name": "stdout",
     "output_type": "stream",
     "text": [
      "Результат:  {98, 35, 15, 213, 54, 119}\n"
     ]
    }
   ],
   "source": [
    "ids = { 'user1' : [213, 213, 213, 15, 213],\n",
    "        'user2' : [54, 54, 119, 119, 119],\n",
    "        'user3' : [213, 98, 98, 35]\n",
    "          }\n",
    "my_set = set()\n",
    "for el in ids.values():\n",
    "    my_set.update(el)\n",
    "print('Результат: ', my_set)\n",
    "\n",
    "\n"
   ]
  },
  {
   "cell_type": "markdown",
   "metadata": {},
   "source": [
    "# Задача 2"
   ]
  },
  {
   "cell_type": "code",
   "execution_count": 16,
   "metadata": {},
   "outputs": [
    {
     "name": "stdout",
     "output_type": "stream",
     "text": [
      "Результат:\n",
      "Поисковых запросов, содержащих 3 слова: 57.14%\n",
      "Поисковых запросов, содержащих 2 слова: 42.86%\n"
     ]
    }
   ],
   "source": [
    "queries = [\n",
    "'смотреть сериалы онлайн',\n",
    "'новости спорта',\n",
    "'афиша кино',\n",
    "'курс доллара',\n",
    "'сериалы этим летом',\n",
    "'курс по питону',\n",
    "'сериалы про спорт'\n",
    "]\n",
    "res = {}\n",
    "for query in queries:\n",
    "    words = len(query.split(' '))\n",
    "    if words not in res:\n",
    "        res[words] = 1\n",
    "    else:\n",
    "        res[words] += 1\n",
    "print('Результат:')\n",
    "for word, count in res.items():\n",
    "    print(f'Поисковых запросов, содержащих {word} слова: {round(count/len(queries) * 100, 2)}%')"
   ]
  },
  {
   "cell_type": "markdown",
   "metadata": {},
   "source": [
    "# Задача 3"
   ]
  },
  {
   "cell_type": "code",
   "execution_count": null,
   "metadata": {},
   "outputs": [],
   "source": [
    "как округлить значение ROI? #round, #int а куда их именно надо вставлять?"
   ]
  },
  {
   "cell_type": "code",
   "execution_count": 53,
   "metadata": {},
   "outputs": [
    {
     "data": {
      "text/plain": [
       "{'vk': {'revenue': 103, 'cost': 98, 'ROI': 5.102040816326525},\n",
       " 'yandex': {'revenue': 179, 'cost': 153, 'ROI': 16.99346405228759},\n",
       " 'facebook': {'revenue': 103, 'cost': 110, 'ROI': -6.36363636363636},\n",
       " 'adwords': {'revenue': 35, 'cost': 34, 'ROI': 2.941176470588225},\n",
       " 'twitter': {'revenue': 11, 'cost': 24, 'ROI': -54.16666666666667}}"
      ]
     },
     "execution_count": 53,
     "metadata": {},
     "output_type": "execute_result"
    }
   ],
   "source": [
    "results = {\n",
    "'vk': {'revenue': 103, 'cost': 98},\n",
    "'yandex': {'revenue': 179, 'cost': 153},\n",
    "'facebook': {'revenue': 103, 'cost': 110},\n",
    "'adwords': {'revenue': 35, 'cost': 34},\n",
    "'twitter': {'revenue': 11, 'cost': 24}\n",
    "}\n",
    "for info in results.values():\n",
    "    info['ROI'] = (info['revenue'] / info['cost'] - 1) * 100\n",
    "results"
   ]
  },
  {
   "cell_type": "markdown",
   "metadata": {},
   "source": [
    "# Задача 4"
   ]
  },
  {
   "cell_type": "code",
   "execution_count": 105,
   "metadata": {},
   "outputs": [
    {
     "name": "stdout",
     "output_type": "stream",
     "text": [
      "Максимальный объем продаж на рекламном канале: vk\n"
     ]
    }
   ],
   "source": [
    "stats = {'facebook': 55, 'yandex': 115, 'vk': 120, 'google': 99, 'email': 42, 'ok': 98}\n",
    "res = [(value, key) for key, value in stats.items()]\n",
    "print(f'Максимальный объем продаж на рекламном канале:', max(res)[1])"
   ]
  },
  {
   "cell_type": "code",
   "execution_count": null,
   "metadata": {},
   "outputs": [],
   "source": []
  }
 ],
 "metadata": {
  "kernelspec": {
   "display_name": "Python 3",
   "language": "python",
   "name": "python3"
  },
  "language_info": {
   "codemirror_mode": {
    "name": "ipython",
    "version": 3
   },
   "file_extension": ".py",
   "mimetype": "text/x-python",
   "name": "python",
   "nbconvert_exporter": "python",
   "pygments_lexer": "ipython3",
   "version": "3.8.3"
  }
 },
 "nbformat": 4,
 "nbformat_minor": 4
}
