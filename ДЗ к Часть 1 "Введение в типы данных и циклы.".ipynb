{
 "cells": [
  {
   "cell_type": "markdown",
   "metadata": {},
   "source": [
    "# Задание 1"
   ]
  },
  {
   "cell_type": "code",
   "execution_count": null,
   "metadata": {},
   "outputs": [],
   "source": [
    "word = input(\"Введите слово: \")\n",
    "le = len(word)\n",
    "w1 = int(le / 2)\n",
    "w2 = int(w1 - 1)\n",
    "if le % 2 == 0:\n",
    "    print(word[w2], word[w1])\n",
    "elif le % 2 != 0:\n",
    "    print(word[w1])    "
   ]
  },
  {
   "cell_type": "markdown",
   "metadata": {},
   "source": [
    "# Задание 2"
   ]
  },
  {
   "cell_type": "code",
   "execution_count": 34,
   "metadata": {},
   "outputs": [
    {
     "name": "stdout",
     "output_type": "stream",
     "text": [
      "Введите число 5\n",
      "Введите число 6\n",
      "Введите число 7\n",
      "Введите число 4\n",
      "Введите число 234\n",
      "Введите число 0\n",
      "Результат 256\n"
     ]
    }
   ],
   "source": [
    "sum_us = 0\n",
    "while True:\n",
    "    user_input = int(input('Введите число '))\n",
    "    if user_input != 0:\n",
    "        sum_us += user_input\n",
    "    elif user_input == 0:\n",
    "        break\n",
    "print((\"Результат\"), (sum_us))"
   ]
  },
  {
   "cell_type": "markdown",
   "metadata": {},
   "source": [
    "# Задание 3"
   ]
  },
  {
   "cell_type": "code",
   "execution_count": 34,
   "metadata": {},
   "outputs": [
    {
     "name": "stdout",
     "output_type": "stream",
     "text": [
      "Alex и Emma\n",
      "Arthur и Kate\n",
      "John и Kira\n",
      "Peter и Liza\n",
      "Petr и Trisha\n",
      "Внимание, кто-то может остаться без пары!\n"
     ]
    }
   ],
   "source": [
    "boys = ('Peter', 'Alex', 'John', 'Arthur', 'Richard', 'Petr') \n",
    "girls = ('Kate', 'Liza', 'Kira', 'Emma', 'Trisha')\n",
    "boys = sorted(boys)\n",
    "girls = sorted(girls)\n",
    "para = zip(boys, girls)\n",
    "para = list(para)\n",
    "for element in para:\n",
    "    print(element[0], 'и', element[1])\n",
    "else:\n",
    "    if len(boys) > len(girls):\n",
    "        print(\"Внимание, кто-то может остаться без пары!\")"
   ]
  },
  {
   "cell_type": "markdown",
   "metadata": {},
   "source": [
    "# Задача 4"
   ]
  },
  {
   "cell_type": "code",
   "execution_count": 6,
   "metadata": {},
   "outputs": [],
   "source": [
    "countries_temperature = [\n",
    "    ['Thailand', [75.2, 77, 78.8, 73.4, 68, 75.2, 77]],\n",
    "    ['Germany', [57.2, 55.4, 59, 59, 53.6]],\n",
    "    ['Russia', [35.6, 37.4, 39.2, 41, 42.8, 39.2, 35.6]],\n",
    "    ['Poland', [50, 50, 53.6, 57.2, 55.4, 55.4]]\n",
    "]"
   ]
  },
  {
   "cell_type": "code",
   "execution_count": 120,
   "metadata": {},
   "outputs": [
    {
     "name": "stdout",
     "output_type": "stream",
     "text": [
      "Thailand\n",
      "23.85714285714285\n",
      "Germany\n",
      "13.799999999999999\n",
      "Russia\n",
      "3.714285714285717\n",
      "Poland\n",
      "11.999999999999996\n"
     ]
    }
   ],
   "source": [
    "for country_info in countries_temperature:\n",
    "    print(country_info[0])\n",
    "    temp_sum = 0\n",
    "    for temp in country_info[1]:\n",
    "        temp_sum += temp\n",
    "    print((((temp_sum / len(country_info[1])) - 32) * 5) / 9)\n"
   ]
  },
  {
   "cell_type": "code",
   "execution_count": 21,
   "metadata": {},
   "outputs": [
    {
     "name": "stdout",
     "output_type": "stream",
     "text": [
      "Средняя температура в странах: \n",
      "Thailand - 23.86 F\n",
      "Germany - 13.8 F\n",
      "Russia - 3.71 F\n",
      "Poland - 12.0 F\n"
     ]
    }
   ],
   "source": [
    "print(\"Средняя температура в странах: \")\n",
    "for el in countries_temperature:\n",
    "    temp = sum(el[1]) / len(el[1])\n",
    "    temp1 = round(((temp-32)*5)/9,2)\n",
    "    print(f'{el[0]} - {temp1} F')\n"
   ]
  },
  {
   "cell_type": "code",
   "execution_count": null,
   "metadata": {},
   "outputs": [],
   "source": []
  }
 ],
 "metadata": {
  "kernelspec": {
   "display_name": "Python 3",
   "language": "python",
   "name": "python3"
  }
 },
 "nbformat": 4,
 "nbformat_minor": 4
}
